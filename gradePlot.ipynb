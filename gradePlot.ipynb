{
 "cells": [
  {
   "cell_type": "markdown",
   "metadata": {},
   "source": [
    "## Notebook to plot FDSM grades.\n",
    "\n",
    "If you would like to try running this, you may need to change credentials in line3 to redirect to the proper path. "
   ]
  },
  {
   "cell_type": "markdown",
   "metadata": {},
   "source": [
    "Ty to google cloud documentation\\\n",
    "Ty to chatgpt\n",
    "\n",
    "[Form Link](https://forms.gle/D2jpUom9w12EHa6B8)\n",
    "\n",
    "[Google Sheet Link](https://docs.google.com/spreadsheets/d/1--8RKMQwkET7apyJMdw_WTGHJh74l8ZHbWGqkhMb0EU/edit#gid=1677457)"
   ]
  },
  {
   "cell_type": "markdown",
   "metadata": {},
   "source": [
    "Imports"
   ]
  },
  {
   "cell_type": "code",
   "execution_count": 30,
   "metadata": {},
   "outputs": [],
   "source": [
    "import matplotlib.pyplot as plt\n",
    "import numpy as np\n",
    "import gspread\n",
    "from oauth2client.service_account import ServiceAccountCredentials\n",
    "from sklearn.preprocessing import MinMaxScaler"
   ]
  },
  {
   "cell_type": "markdown",
   "metadata": {},
   "source": [
    "Connect to google sheet"
   ]
  },
  {
   "cell_type": "code",
   "execution_count": 31,
   "metadata": {},
   "outputs": [],
   "source": [
    "scope = [\"https://spreadsheets.google.com/feeds\", \"https://www.googleapis.com/auth/drive\"]\n",
    "credentials = ServiceAccountCredentials.from_json_keyfile_name('/Users/raaghavt/Desktop/UCSB/Fall2023/FDSM/FinalGrade/creds.json', scope)\n",
    "gc = gspread.authorize(credentials)\n",
    "sheet = gc.open('103 grade').sheet1"
   ]
  },
  {
   "cell_type": "markdown",
   "metadata": {},
   "source": [
    "Data acquisition from sheet"
   ]
  },
  {
   "cell_type": "code",
   "execution_count": 32,
   "metadata": {},
   "outputs": [],
   "source": [
    "column_a = sheet.col_values(2,)\n",
    "column_b = sheet.col_values(3)\n",
    "\n",
    "column_a = column_a[1:]\n",
    "column_b = column_b[1:]\n",
    "\n",
    "data = np.vstack((column_a,column_b))"
   ]
  },
  {
   "cell_type": "markdown",
   "metadata": {},
   "source": [
    "Sort data to have letters in correct order"
   ]
  },
  {
   "cell_type": "code",
   "execution_count": 33,
   "metadata": {},
   "outputs": [
    {
     "name": "stdout",
     "output_type": "stream",
     "text": [
      "[['A+' 'A+' 'A+' 'A+' 'A+' 'A' 'A-' 'A-' 'A-' 'A-' 'B+' 'B' 'B' 'B' 'B-'\n",
      "  'C+' 'C' 'C-' 'D+' 'D' 'D-' 'F']\n",
      " ['50' '95.92' '96.27' '95.38' '96.9' '50' '50' '89.76' '90.43' '88.89'\n",
      "  '50' '82.98' '50' '81.43' '50' '50' '50' '50' '50' '50' '50' '50']]\n"
     ]
    }
   ],
   "source": [
    "# Define the order of categories\n",
    "categories = [\"A+\", \"A\", \"A-\", \"B+\", \"B\", \"B-\", \"C+\", \"C\", \"C-\", \"D+\", \"D\", \"D-\", \"F\"]\n",
    "\n",
    "# Create a mapping of categories to indices\n",
    "category_indices = {category: index for index, category in enumerate(categories)}\n",
    "\n",
    "# Sort the first row indices\n",
    "sorted_indices = np.argsort([category_indices[category] for category in data[0]])\n",
    "\n",
    "# Apply sorting to both rows\n",
    "sorted_matrix = data[:, sorted_indices]\n",
    "\n",
    "print(sorted_matrix)\n",
    "reversed_matrix = sorted_matrix[:, ::-1]"
   ]
  },
  {
   "cell_type": "markdown",
   "metadata": {},
   "source": [
    "Scale data on y axis"
   ]
  },
  {
   "cell_type": "code",
   "execution_count": 34,
   "metadata": {},
   "outputs": [],
   "source": [
    "# Scale y-values to the range 50 to 100 using MinMaxScaler\n",
    "minmax = [eval(i) for i in data[1,:]]\n",
    "scaler = MinMaxScaler(feature_range=(np.min(minmax), np.max(minmax)))\n",
    "scaled_y_values = scaler.fit_transform(reversed_matrix[1, :].reshape(-1, 1))"
   ]
  },
  {
   "cell_type": "markdown",
   "metadata": {},
   "source": [
    "Plot the data"
   ]
  },
  {
   "cell_type": "code",
   "execution_count": 35,
   "metadata": {},
   "outputs": [
    {
     "data": {
      "image/png": "[encoded data removed]",
      "text/plain": [
       "<Figure size 640x480 with 1 Axes>"
      ]
     },
     "metadata": {},
     "output_type": "display_data"
    }
   ],
   "source": [
    "plt.scatter(reversed_matrix[0, :], scaled_y_values.flatten())\n",
    "plt.xlabel('Letter Grades in Gold')\n",
    "plt.ylabel('Canvas Percentage')\n",
    "plt.title('Grade Distribution')\n",
    "plt.show()"
   ]
  }
 ],
 "metadata": {
  "kernelspec": {
   "display_name": "base",
   "language": "python",
   "name": "python3"
  },
  "language_info": {
   "codemirror_mode": {
    "name": "ipython",
    "version": 3
   },
   "file_extension": ".py",
   "mimetype": "text/x-python",
   "name": "python",
   "nbconvert_exporter": "python",
   "pygments_lexer": "ipython3",
   "version": "3.11.4"
  }
 },
 "nbformat": 4,
 "nbformat_minor": 2
}
